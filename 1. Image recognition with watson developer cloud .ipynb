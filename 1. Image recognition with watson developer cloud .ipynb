{
 "cells": [
  {
   "cell_type": "markdown",
   "metadata": {},
   "source": [
    "### IBM watson_developer_cloud doc:\n",
    "<br>https://cloud.ibm.com/apidocs/visual-recognition?code=python#classify-images"
   ]
  },
  {
   "cell_type": "code",
   "execution_count": 3,
   "metadata": {},
   "outputs": [
    {
     "name": "stderr",
     "output_type": "stream",
     "text": [
      "C:\\ProgramData\\Anaconda3\\lib\\site-packages\\ipykernel_launcher.py:6: DeprecationWarning: watson-developer-cloud moved to ibm-watson. To get updates, use the new package.\n",
      "  \n"
     ]
    }
   ],
   "source": [
    "import json\n",
    "from watson_developer_cloud import VisualRecognitionV3\n",
    "\n",
    "visual_recognition = VisualRecognitionV3(\n",
    "    '{version date}',\n",
    "    iam_apikey='{Your API}')\n",
    "\n"
   ]
  },
  {
   "cell_type": "markdown",
   "metadata": {},
   "source": [
    "# Read Image from URL"
   ]
  },
  {
   "cell_type": "code",
   "execution_count": null,
   "metadata": {},
   "outputs": [],
   "source": [
    "img=visual_recognition.classify(url='https://3yecy51kdipx3blyi37oute1-wpengine.netdna-ssl.com/wp-content/uploads/2019/01/bg-clouds.jpg').get_result()"
   ]
  },
  {
   "cell_type": "code",
   "execution_count": 5,
   "metadata": {},
   "outputs": [],
   "source": [
    "import pprint"
   ]
  },
  {
   "cell_type": "code",
   "execution_count": 6,
   "metadata": {},
   "outputs": [
    {
     "name": "stdout",
     "output_type": "stream",
     "text": [
      "('{\\n'\n",
      " '  \"images\": [\\n'\n",
      " '    {\\n'\n",
      " '      \"classifiers\": [\\n'\n",
      " '        {\\n'\n",
      " '          \"classifier_id\": \"default\",\\n'\n",
      " '          \"name\": \"default\",\\n'\n",
      " '          \"classes\": [\\n'\n",
      " '            {\\n'\n",
      " '              \"class\": \"sky\",\\n'\n",
      " '              \"score\": 0.98\\n'\n",
      " '            },\\n'\n",
      " '            {\\n'\n",
      " '              \"class\": \"nature\",\\n'\n",
      " '              \"score\": 0.791\\n'\n",
      " '            },\\n'\n",
      " '            {\\n'\n",
      " '              \"class\": \"blue color\",\\n'\n",
      " '              \"score\": 0.96\\n'\n",
      " '            },\\n'\n",
      " '            {\\n'\n",
      " '              \"class\": \"azure color\",\\n'\n",
      " '              \"score\": 0.898\\n'\n",
      " '            }\\n'\n",
      " '          ]\\n'\n",
      " '        }\\n'\n",
      " '      ],\\n'\n",
      " '      \"source_url\": '\n",
      " '\"https://3yecy51kdipx3blyi37oute1-wpengine.netdna-ssl.com/wp-content/uploads/2019/01/bg-clouds.jpg\",\\n'\n",
      " '      \"resolved_url\": '\n",
      " '\"https://3yecy51kdipx3blyi37oute1-wpengine.netdna-ssl.com/wp-content/uploads/2019/01/bg-clouds.jpg\"\\n'\n",
      " '    }\\n'\n",
      " '  ],\\n'\n",
      " '  \"images_processed\": 1,\\n'\n",
      " '  \"custom_classes\": 0\\n'\n",
      " '}')\n"
     ]
    }
   ],
   "source": [
    "pprint.pprint(json.dumps(img, indent=2))"
   ]
  },
  {
   "cell_type": "code",
   "execution_count": 7,
   "metadata": {},
   "outputs": [
    {
     "name": "stdout",
     "output_type": "stream",
     "text": [
      "'{\\n  \"class\": \"sky\",\\n  \"score\": 0.98\\n}'\n"
     ]
    }
   ],
   "source": [
    "pprint.pprint(json.dumps(img['images'][0]['classifiers'][0]['classes'][0], indent=2))"
   ]
  },
  {
   "cell_type": "code",
   "execution_count": 8,
   "metadata": {},
   "outputs": [
    {
     "name": "stderr",
     "output_type": "stream",
     "text": [
      "C:\\ProgramData\\Anaconda3\\lib\\site-packages\\ipykernel_launcher.py:6: DeprecationWarning: watson-developer-cloud moved to ibm-watson. To get updates, use the new package.\n",
      "  \n"
     ]
    }
   ],
   "source": [
    "import json\n",
    "from watson_developer_cloud import VisualRecognitionV3\n",
    "\n",
    "visual_recognition = VisualRecognitionV3(\n",
    "    '{version date}',\n",
    "    iam_apikey='Your API')\n"
   ]
  },
  {
   "cell_type": "markdown",
   "metadata": {},
   "source": [
    "# Read image from my computer"
   ]
  },
  {
   "cell_type": "code",
   "execution_count": 9,
   "metadata": {},
   "outputs": [
    {
     "name": "stdout",
     "output_type": "stream",
     "text": [
      "{\n",
      "  \"class\": \"Lightning\",\n",
      "  \"score\": 0.916,\n",
      "  \"type_hierarchy\": \"/nature/Lightning\"\n",
      "}\n"
     ]
    }
   ],
   "source": [
    "with open('a.jpg', 'rb') as images_f:\n",
    "    classes = visual_recognition.classify(\n",
    "        images_f).get_result()\n",
    "    print(json.dumps(classes['images'][0]['classifiers'][0]['classes'][0], indent=2))"
   ]
  },
  {
   "cell_type": "code",
   "execution_count": 10,
   "metadata": {},
   "outputs": [
    {
     "name": "stdout",
     "output_type": "stream",
     "text": [
      "{\n",
      "  \"classifier_id\": \"default\",\n",
      "  \"name\": \"default\",\n",
      "  \"classes\": [\n",
      "    {\n",
      "      \"class\": \"Lightning\",\n",
      "      \"score\": 0.916,\n",
      "      \"type_hierarchy\": \"/nature/Lightning\"\n",
      "    },\n",
      "    {\n",
      "      \"class\": \"nature\",\n",
      "      \"score\": 0.916\n",
      "    },\n",
      "    {\n",
      "      \"class\": \"Night Sky\",\n",
      "      \"score\": 0.762\n",
      "    },\n",
      "    {\n",
      "      \"class\": \"blue color\",\n",
      "      \"score\": 0.91\n",
      "    },\n",
      "    {\n",
      "      \"class\": \"ultramarine color\",\n",
      "      \"score\": 0.607\n",
      "    }\n",
      "  ]\n",
      "}\n"
     ]
    }
   ],
   "source": [
    "with open('a.jpg', 'rb') as images_f:\n",
    "    classes = visual_recognition.classify(\n",
    "        images_f).get_result()\n",
    "    print(json.dumps(classes['images'][0]['classifiers'][0], indent=2))"
   ]
  },
  {
   "cell_type": "code",
   "execution_count": 11,
   "metadata": {},
   "outputs": [
    {
     "name": "stdout",
     "output_type": "stream",
     "text": [
      "{\n",
      "  \"classifier_id\": \"default\",\n",
      "  \"name\": \"default\",\n",
      "  \"classes\": [\n",
      "    {\n",
      "      \"class\": \"coupe car\",\n",
      "      \"score\": 0.822,\n",
      "      \"type_hierarchy\": \"/vehicle/wheeled vehicle/car/coupe car\"\n",
      "    },\n",
      "    {\n",
      "      \"class\": \"car\",\n",
      "      \"score\": 0.897\n",
      "    },\n",
      "    {\n",
      "      \"class\": \"wheeled vehicle\",\n",
      "      \"score\": 0.898\n",
      "    },\n",
      "    {\n",
      "      \"class\": \"vehicle\",\n",
      "      \"score\": 0.899\n",
      "    },\n",
      "    {\n",
      "      \"class\": \"sports car\",\n",
      "      \"score\": 0.587,\n",
      "      \"type_hierarchy\": \"/vehicle/wheeled vehicle/car/sports car\"\n",
      "    },\n",
      "    {\n",
      "      \"class\": \"ash grey color\",\n",
      "      \"score\": 0.534\n",
      "    },\n",
      "    {\n",
      "      \"class\": \"body (of vehicle)\",\n",
      "      \"score\": 0.5\n",
      "    },\n",
      "    {\n",
      "      \"class\": \"mechanism\",\n",
      "      \"score\": 0.796\n",
      "    }\n",
      "  ]\n",
      "}\n"
     ]
    }
   ],
   "source": [
    "with open('b.jpg', 'rb') as images_f:\n",
    "    classes = visual_recognition.classify(\n",
    "        images_f).get_result()\n",
    "    print(json.dumps(classes['images'][0]['classifiers'][0], indent=2))"
   ]
  },
  {
   "cell_type": "code",
   "execution_count": null,
   "metadata": {},
   "outputs": [],
   "source": []
  }
 ],
 "metadata": {
  "kernelspec": {
   "display_name": "Python 3",
   "language": "python",
   "name": "python3"
  },
  "language_info": {
   "codemirror_mode": {
    "name": "ipython",
    "version": 3
   },
   "file_extension": ".py",
   "mimetype": "text/x-python",
   "name": "python",
   "nbconvert_exporter": "python",
   "pygments_lexer": "ipython3",
   "version": "3.6.4"
  }
 },
 "nbformat": 4,
 "nbformat_minor": 2
}
