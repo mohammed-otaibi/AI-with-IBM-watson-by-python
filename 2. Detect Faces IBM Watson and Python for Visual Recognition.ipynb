{
 "cells": [
  {
   "cell_type": "markdown",
   "metadata": {},
   "source": [
    "### IBM watson_developer_cloud doc:\n",
    "<br>https://cloud.ibm.com/apidocs/visual-recognition?code=python#classify-images"
   ]
  },
  {
   "cell_type": "code",
   "execution_count": 5,
   "metadata": {},
   "outputs": [
    {
     "name": "stderr",
     "output_type": "stream",
     "text": [
      "C:\\ProgramData\\Anaconda3\\lib\\site-packages\\ipykernel_launcher.py:5: DeprecationWarning: watson-developer-cloud moved to ibm-watson. To get updates, use the new package.\n",
      "  \"\"\"\n"
     ]
    }
   ],
   "source": [
    "from watson_developer_cloud import VisualRecognitionV3\n",
    "\n",
    "visual_recognition = VisualRecognitionV3(\n",
    "    '{version date}',\n",
    "    iam_apikey='{Your API}')\n"
   ]
  },
  {
   "cell_type": "markdown",
   "metadata": {},
   "source": [
    "# Read Image from url:"
   ]
  },
  {
   "cell_type": "code",
   "execution_count": 30,
   "metadata": {},
   "outputs": [],
   "source": [
    "img= visual_recognition.detect_faces(url='https://www.assawsana.com/portal/image/imgid176406.jpg')"
   ]
  },
  {
   "cell_type": "code",
   "execution_count": 31,
   "metadata": {},
   "outputs": [
    {
     "data": {
      "text/plain": [
       "<watson_developer_cloud.watson_service.DetailedResponse at 0x223fe366c18>"
      ]
     },
     "execution_count": 31,
     "metadata": {},
     "output_type": "execute_result"
    }
   ],
   "source": [
    "img"
   ]
  },
  {
   "cell_type": "code",
   "execution_count": 34,
   "metadata": {},
   "outputs": [
    {
     "name": "stdout",
     "output_type": "stream",
     "text": [
      "{\n",
      "    \"result\": {\n",
      "        \"images\": [\n",
      "            {\n",
      "                \"faces\": [\n",
      "                    {\n",
      "                        \"age\": {\n",
      "                            \"min\": 48,\n",
      "                            \"max\": 51,\n",
      "                            \"score\": 0.785294\n",
      "                        },\n",
      "                        \"face_location\": {\n",
      "                            \"height\": 315,\n",
      "                            \"width\": 271,\n",
      "                            \"left\": 59,\n",
      "                            \"top\": 106\n",
      "                        },\n",
      "                        \"gender\": {\n",
      "                            \"gender\": \"MALE\",\n",
      "                            \"gender_label\": \"male\",\n",
      "                            \"score\": 0.99996126\n",
      "                        }\n",
      "                    }\n",
      "                ],\n",
      "                \"source_url\": \"https://www.assawsana.com/portal/image/imgid176406.jpg\",\n",
      "                \"resolved_url\": \"https://www.assawsana.com/portal/image/imgid176406.jpg\"\n",
      "            }\n",
      "        ],\n",
      "        \"images_processed\": 1\n",
      "    },\n",
      "    \"headers\": {\n",
      "        \"_store\": {\n",
      "            \"x-backside-transport\": [\n",
      "                \"X-Backside-Transport\",\n",
      "                \"OK OK\"\n",
      "            ],\n",
      "            \"content-type\": [\n",
      "                \"Content-Type\",\n",
      "                \"application/json\"\n",
      "            ],\n",
      "            \"cache-control\": [\n",
      "                \"Cache-Control\",\n",
      "                \"no-cache, no-store\"\n",
      "            ],\n",
      "            \"content-security-policy\": [\n",
      "                \"Content-Security-Policy\",\n",
      "                \"default-src 'none'\"\n",
      "            ],\n",
      "            \"expires\": [\n",
      "                \"Expires\",\n",
      "                \"0\"\n",
      "            ],\n",
      "            \"pragma\": [\n",
      "                \"Pragma\",\n",
      "                \"no-cache\"\n",
      "            ],\n",
      "            \"strict-transport-security\": [\n",
      "                \"Strict-Transport-Security\",\n",
      "                \"max-age=31536000;\"\n",
      "            ],\n",
      "            \"x-content-type-options\": [\n",
      "                \"X-Content-Type-Options\",\n",
      "                \"nosniff\"\n",
      "            ],\n",
      "            \"x-xss-protection\": [\n",
      "                \"X-Xss-Protection\",\n",
      "                \"1; mode=block\"\n",
      "            ],\n",
      "            \"x-global-transaction-id\": [\n",
      "                \"x-global-transaction-id\",\n",
      "                \"7ecac92c5d31f8a20a636de9\"\n",
      "            ],\n",
      "            \"x-dp-watson-tran-id\": [\n",
      "                \"X-DP-Watson-Tran-ID\",\n",
      "                \"gateway01-174288361\"\n",
      "            ],\n",
      "            \"x-dp-transit-id\": [\n",
      "                \"X-DP-Transit-ID\",\n",
      "                \"gateway01-174288361\"\n",
      "            ],\n",
      "            \"content-encoding\": [\n",
      "                \"Content-Encoding\",\n",
      "                \"gzip\"\n",
      "            ],\n",
      "            \"x-edgeconnect-midmile-rtt\": [\n",
      "                \"X-EdgeConnect-MidMile-RTT\",\n",
      "                \"82\"\n",
      "            ],\n",
      "            \"x-edgeconnect-origin-mex-latency\": [\n",
      "                \"X-EdgeConnect-Origin-MEX-Latency\",\n",
      "                \"1674\"\n",
      "            ],\n",
      "            \"date\": [\n",
      "                \"Date\",\n",
      "                \"Fri, 19 Jul 2019 17:06:44 GMT\"\n",
      "            ],\n",
      "            \"transfer-encoding\": [\n",
      "                \"Transfer-Encoding\",\n",
      "                \"chunked\"\n",
      "            ],\n",
      "            \"connection\": [\n",
      "                \"Connection\",\n",
      "                \"keep-alive, Transfer-Encoding\"\n",
      "            ],\n",
      "            \"vary\": [\n",
      "                \"Vary\",\n",
      "                \"Accept-Encoding\"\n",
      "            ]\n",
      "        }\n",
      "    },\n",
      "    \"status_code\": 200\n",
      "}\n"
     ]
    }
   ],
   "source": [
    "if img:\n",
    "    print(img)"
   ]
  },
  {
   "cell_type": "markdown",
   "metadata": {},
   "source": [
    "# Read Image from my computer:"
   ]
  },
  {
   "cell_type": "code",
   "execution_count": 35,
   "metadata": {},
   "outputs": [
    {
     "name": "stdout",
     "output_type": "stream",
     "text": [
      "{\n",
      "  \"images\": [\n",
      "    {\n",
      "      \"faces\": [\n",
      "        {\n",
      "          \"age\": {\n",
      "            \"min\": 23,\n",
      "            \"max\": 26,\n",
      "            \"score\": 0.9997227\n",
      "          },\n",
      "          \"face_location\": {\n",
      "            \"height\": 389,\n",
      "            \"width\": 316,\n",
      "            \"left\": 524,\n",
      "            \"top\": 206\n",
      "          },\n",
      "          \"gender\": {\n",
      "            \"gender\": \"MALE\",\n",
      "            \"gender_label\": \"male\",\n",
      "            \"score\": 0.99994385\n",
      "          }\n",
      "        }\n",
      "      ],\n",
      "      \"image\": \"a.jpg\"\n",
      "    }\n",
      "  ],\n",
      "  \"images_processed\": 1\n",
      "}\n"
     ]
    }
   ],
   "source": [
    "with open('c.jpg', 'rb') as images_f:\n",
    "    classes = visual_recognition.detect_faces(\n",
    "        images_f).get_result()\n",
    "    print(json.dumps(classes, indent=2))"
   ]
  },
  {
   "cell_type": "code",
   "execution_count": null,
   "metadata": {},
   "outputs": [],
   "source": []
  }
 ],
 "metadata": {
  "kernelspec": {
   "display_name": "Python 3",
   "language": "python",
   "name": "python3"
  },
  "language_info": {
   "codemirror_mode": {
    "name": "ipython",
    "version": 3
   },
   "file_extension": ".py",
   "mimetype": "text/x-python",
   "name": "python",
   "nbconvert_exporter": "python",
   "pygments_lexer": "ipython3",
   "version": "3.6.4"
  }
 },
 "nbformat": 4,
 "nbformat_minor": 2
}
