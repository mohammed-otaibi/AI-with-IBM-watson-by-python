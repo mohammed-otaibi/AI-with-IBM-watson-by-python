{
 "cells": [
  {
   "cell_type": "markdown",
   "metadata": {},
   "source": [
    "### Recognize text in images (Beta) doc:\n",
    "<br>\n",
    "https://cloud.ibm.com/apidocs/visual-recognition/visual-recognition-v3-text#recognize-text-in-images-beta"
   ]
  },
  {
   "cell_type": "markdown",
   "metadata": {},
   "source": [
    "There is no library in python to recognize text from image in watson developer cloud!\n",
    "<br>\n",
    "What did I do?<br><p>\n",
    "In the documentation of Recognize text in images (Beta) in above we can recognize text in images by curl command.<br><p>\n",
    "1- I took the curl command to recognize my image from the ibm documentation.\n",
    "<br><p>\n",
    "curl -X POST -u \"apikey:{apikey}\" -F \"images_file=@sign.jpg\" \"https://gateway.watsonplatform.net/visual-recognition/api/v3/recognize_text?version=2018-03-19\"<p>\n",
    "2- I transferred the curl to python code from this web site https://curl.trillworks.com/.\n",
    "<p>\n",
    "3- The image should by on the computer.\n"
   ]
  },
  {
   "cell_type": "code",
   "execution_count": 8,
   "metadata": {},
   "outputs": [],
   "source": [
    "import requests\n",
    "\n",
    "parameter = (\n",
    "    ('version', '2018-03-19'),\n",
    ")\n",
    "\n",
    "file = {\n",
    "    'images_file': ('QQ.jpg', open('QQ.jpg', 'rb')),\n",
    "}\n",
    "\n",
    "res = requests.post('https://gateway.watsonplatform.net/visual-recognition/api/v3/recognize_text', params=parameter, files=file, auth=('apikey', '{YOUR API}'))\n"
   ]
  },
  {
   "cell_type": "code",
   "execution_count": 19,
   "metadata": {},
   "outputs": [
    {
     "name": "stdout",
     "output_type": "stream",
     "text": [
      "{\n",
      "    \"images\": [\n",
      "        {\n",
      "            \"image\": \"QQ.jpg\",\n",
      "            \"text\": \"dont\\njudge\\na book\\nby its\\ncover\",\n",
      "            \"words\": [\n",
      "                {\n",
      "                    \"word\": \"dont\",\n",
      "                    \"location\": {\n",
      "                        \"height\": 22,\n",
      "                        \"width\": 97,\n",
      "                        \"left\": 54,\n",
      "                        \"top\": 41\n",
      "                    },\n",
      "                    \"score\": 0.9575,\n",
      "                    \"line_number\": 0\n",
      "                },\n",
      "                {\n",
      "                    \"word\": \"judge\",\n",
      "                    \"location\": {\n",
      "                        \"height\": 23,\n",
      "                        \"width\": 113,\n",
      "                        \"left\": 48,\n",
      "                        \"top\": 73\n",
      "                    },\n",
      "                    \"score\": 1,\n",
      "                    \"line_number\": 1\n",
      "                },\n",
      "                {\n",
      "                    \"word\": \"a\",\n",
      "                    \"location\": {\n",
      "                        \"height\": 22,\n",
      "                        \"width\": 21,\n",
      "                        \"left\": 42,\n",
      "                        \"top\": 109\n",
      "                    },\n",
      "                    \"score\": 0.9717,\n",
      "                    \"line_number\": 2\n",
      "                },\n",
      "                {\n",
      "                    \"word\": \"book\",\n",
      "                    \"location\": {\n",
      "                        \"height\": 22,\n",
      "                        \"width\": 89,\n",
      "                        \"left\": 75,\n",
      "                        \"top\": 109\n",
      "                    },\n",
      "                    \"score\": 0.9553,\n",
      "                    \"line_number\": 2\n",
      "                },\n",
      "                {\n",
      "                    \"word\": \"by\",\n",
      "                    \"location\": {\n",
      "                        \"height\": 21,\n",
      "                        \"width\": 39,\n",
      "                        \"left\": 54,\n",
      "                        \"top\": 143\n",
      "                    },\n",
      "                    \"score\": 0.921,\n",
      "                    \"line_number\": 3\n",
      "                },\n",
      "                {\n",
      "                    \"word\": \"its\",\n",
      "                    \"location\": {\n",
      "                        \"height\": 22,\n",
      "                        \"width\": 47,\n",
      "                        \"left\": 105,\n",
      "                        \"top\": 142\n",
      "                    },\n",
      "                    \"score\": 0.9575,\n",
      "                    \"line_number\": 3\n",
      "                },\n",
      "                {\n",
      "                    \"word\": \"cover\",\n",
      "                    \"location\": {\n",
      "                        \"height\": 23,\n",
      "                        \"width\": 110,\n",
      "                        \"left\": 47,\n",
      "                        \"top\": 173\n",
      "                    },\n",
      "                    \"score\": 0.952,\n",
      "                    \"line_number\": 4\n",
      "                }\n",
      "            ]\n",
      "        }\n",
      "    ],\n",
      "    \"images_processed\": 1\n",
      "}\n",
      "\n"
     ]
    }
   ],
   "source": [
    "print(res.text)"
   ]
  },
  {
   "cell_type": "code",
   "execution_count": null,
   "metadata": {},
   "outputs": [],
   "source": []
  }
 ],
 "metadata": {
  "kernelspec": {
   "display_name": "Python 3",
   "language": "python",
   "name": "python3"
  },
  "language_info": {
   "codemirror_mode": {
    "name": "ipython",
    "version": 3
   },
   "file_extension": ".py",
   "mimetype": "text/x-python",
   "name": "python",
   "nbconvert_exporter": "python",
   "pygments_lexer": "ipython3",
   "version": "3.6.4"
  }
 },
 "nbformat": 4,
 "nbformat_minor": 2
}
